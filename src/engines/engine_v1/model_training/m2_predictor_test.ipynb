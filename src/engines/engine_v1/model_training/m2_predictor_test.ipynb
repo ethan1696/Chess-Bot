{
 "cells": [
  {
   "cell_type": "code",
   "execution_count": 1,
   "metadata": {},
   "outputs": [],
   "source": [
    "import pandas as pd\n",
    "import torch\n",
    "torch.set_printoptions(linewidth=10000)"
   ]
  },
  {
   "cell_type": "code",
   "execution_count": 3,
   "metadata": {},
   "outputs": [
    {
     "data": {
      "text/plain": [
       "<All keys matched successfully>"
      ]
     },
     "execution_count": 3,
     "metadata": {},
     "output_type": "execute_result"
    }
   ],
   "source": [
    "import torch.nn as nn\n",
    "import torch.optim as optim\n",
    "from torchvision import datasets, transforms\n",
    "from torch.utils.data import DataLoader\n",
    "import torch.utils.data as data\n",
    "from sklearn.model_selection import train_test_split\n",
    "import matplotlib.pyplot as plt\n",
    "from torch.optim.lr_scheduler import ReduceLROnPlateau\n",
    "import torch.nn.functional as F\n",
    "\n",
    "class StableSoftmax(nn.Module):\n",
    "    def forward(self, x):\n",
    "        x = x - x.max(dim=-1, keepdim=True).values\n",
    "        return torch.softmax(x, dim=-1)\n",
    "\n",
    "class Softermax(nn.Module):\n",
    "    def __init__(self, dim=1):\n",
    "        super(Softermax, self).__init__()\n",
    "        self.dim = dim\n",
    "\n",
    "    def forward(self, x):\n",
    "        softplus_x = F.softplus(x)  # Applying softplus to each element in x\n",
    "        return softplus_x / torch.sum(softplus_x, dim=self.dim, keepdim=True)\n",
    "\n",
    "class Chess_CNN(nn.Module):\n",
    "    def __init__(self):\n",
    "        super(Chess_CNN, self).__init__()\n",
    "        self.conv1 = nn.Conv2d(6, 32, kernel_size=3, stride=1, padding=1)\n",
    "        self.relu1 = nn.ReLU()\n",
    "        self.conv2 = nn.Conv2d(32, 32, kernel_size=3, stride=1, padding=1)\n",
    "        self.relu2 = nn.ReLU()\n",
    "        self.fc1 = nn.Linear(64 * 32, 1024)\n",
    "        self.relu3 = nn.ReLU()\n",
    "        self.fc2 = nn.Linear(1024, 64)\n",
    "        self.smax = Softermax()\n",
    "\n",
    "    def forward(self, x):\n",
    "        x = x.float()\n",
    "        x = self.conv1(x)\n",
    "        x = self.relu1(x)\n",
    "        # x = self.conv2(x)\n",
    "        # x = self.relu2(x)\n",
    "        x = torch.flatten(x, start_dim=1)\n",
    "        x = self.fc1(x)\n",
    "        x = self.relu3(x)\n",
    "        x = self.fc2(x)\n",
    "        x = self.smax(x)\n",
    "        x = x.view(x.size(0), 8, 8)\n",
    "        return x\n",
    "    \n",
    "model = Chess_CNN()\n",
    "\n",
    "model.load_state_dict(torch.load(\"models/m1_v11.pth\"), strict=False)"
   ]
  },
  {
   "cell_type": "code",
   "execution_count": null,
   "metadata": {},
   "outputs": [],
   "source": [
    "# df = pd.read_csv(\"datasets/chess_data.csv\")\n",
    "\n",
    "def board2tensor(board):\n",
    "    ranks = board.split(\"/\")\n",
    "\n",
    "    # [PA, KN, BI, RO, QU, KI]\n",
    "    res = [[], [], [], [], [], []]\n",
    "\n",
    "    for i in range(len(ranks) - 1, -1, -1):\n",
    "        PA, KN, BI, RO, QU, KI = [], [], [], [], [], []\n",
    "        for char in ranks[i]:\n",
    "            if char.isdigit():\n",
    "                for j in range(int(char)):\n",
    "                    PA.append(0)\n",
    "                    KN.append(0)\n",
    "                    BI.append(0)\n",
    "                    RO.append(0)\n",
    "                    QU.append(0)\n",
    "                    KI.append(0)\n",
    "                continue\n",
    "            PA_a = 0\n",
    "            KN_a = 0\n",
    "            BI_a = 0\n",
    "            RO_a = 0\n",
    "            QU_a = 0\n",
    "            KI_a = 0\n",
    "            if char == 'P': PA_a = 1\n",
    "            elif char == 'N': KN_a = 1\n",
    "            elif char == 'B': BI_a = 1\n",
    "            elif char == 'R': RO_a = 1\n",
    "            elif char == 'Q': QU_a = 1\n",
    "            elif char == 'K': KI_a = 1\n",
    "            elif char == 'p': PA_a = -1\n",
    "            elif char == 'n': KN_a = -1\n",
    "            elif char == 'b': BI_a = -1\n",
    "            elif char == 'r': RO_a = -1\n",
    "            elif char == 'q': QU_a = -1\n",
    "            elif char == 'k': KI_a = -1\n",
    "\n",
    "            PA.append(PA_a)\n",
    "            KN.append(KN_a)\n",
    "            BI.append(BI_a)\n",
    "            RO.append(RO_a)\n",
    "            QU.append(QU_a)\n",
    "            KI.append(KI_a)\n",
    "\n",
    "\n",
    "        res[0].append(PA)\n",
    "        res[1].append(KN)\n",
    "        res[2].append(BI)\n",
    "        res[3].append(RO)\n",
    "        res[4].append(QU)\n",
    "        res[5].append(KI)\n",
    "    print(res[0])\n",
    "    \n",
    "    input = torch.tensor(res)\n",
    "\n",
    "    #print(input.shape)\n",
    "\n",
    "    with torch.no_grad():  \n",
    "        output = model(input.unsqueeze(0)).unsqueeze(0)\n",
    "    \n",
    "    return torch.cat((input, torch.squeeze(output, dim=0)), dim=0)\n",
    "\n",
    "\n",
    "def position2tensor(position):\n",
    "    res = [[0] * 8 for i in range(0, 8)]\n",
    "    pos_dict = {\n",
    "        'a' : 0,\n",
    "        'b' : 1,\n",
    "        'c' : 2,\n",
    "        'd' : 3,\n",
    "        'e' : 4,\n",
    "        'f' : 5,\n",
    "        'g' : 6,\n",
    "        'h' : 7\n",
    "    }\n",
    "\n",
    "    col = pos_dict[position[0]]\n",
    "    row = int(position[1]) - 1\n",
    "    res[row][col] = 1\n",
    "    return torch.tensor(res)\n"
   ]
  },
  {
   "cell_type": "code",
   "execution_count": null,
   "metadata": {},
   "outputs": [
    {
     "name": "stdout",
     "output_type": "stream",
     "text": [
      "[[0, 0, 0, 0, 0, 0, 0, 0], [1, 1, 1, 1, 1, 1, 1, 1], [0, 0, 0, 0, 0, 0, 0, 0], [0, 0, 0, 0, 0, 0, 0, 0], [0, 0, 0, 0, 0, 0, 0, 0], [0, 0, 0, 0, 0, 0, 0, 0], [-1, -1, -1, -1, -1, -1, -1, -1], [0, 0, 0, 0, 0, 0, 0, 0]]\n"
     ]
    },
    {
     "data": {
      "image/png": "[encoded data removed]",
      "text/plain": [
       "<Figure size 640x480 with 2 Axes>"
      ]
     },
     "metadata": {},
     "output_type": "display_data"
    },
    {
     "name": "stdout",
     "output_type": "stream",
     "text": [
      "tensor([[3.7470e-07, 1.5105e-07, 2.4459e-07, 3.3672e-08, 2.1758e-07, 7.8733e-09, 4.8380e-07, 1.7544e-07],\n",
      "        [3.7387e-07, 6.4229e-07, 5.2777e-05, 4.6446e-07, 9.8230e-10, 2.7333e-08, 6.2363e-09, 8.9008e-08],\n",
      "        [2.0958e-04, 6.2155e-05, 3.4439e-05, 2.3818e-04, 3.6609e-06, 3.1002e-04, 3.1040e-03, 3.4136e-03],\n",
      "        [3.1416e-04, 8.4897e-05, 8.5793e-06, 9.3756e-06, 1.1266e-06, 6.9081e-08, 4.2759e-06, 7.9684e-06],\n",
      "        [3.2853e-03, 3.4640e-06, 4.3723e-05, 1.0515e-07, 5.5970e-02, 1.0896e-07, 1.7173e-05, 1.5225e-05],\n",
      "        [2.5015e-07, 4.1555e-03, 3.3887e-05, 7.4621e-07, 4.7683e-04, 3.0924e-05, 7.0622e-06, 4.2638e-06],\n",
      "        [1.8588e-04, 2.7377e-03, 7.1463e-05, 2.9423e-03, 1.5944e-01, 3.6894e-03, 5.2463e-04, 8.1625e-02],\n",
      "        [1.0747e-04, 1.2149e-01, 2.0439e-04, 3.6761e-05, 3.7476e-07, 1.3153e-02, 5.4163e-01, 2.5486e-04]])\n"
     ]
    }
   ],
   "source": [
    "import matplotlib.pyplot as plt\n",
    "\n",
    "res = board2tensor(\"rnb1r2k/pp1p1Qp1/3b3p/2p1N1q1/3PB3/8/PPP2PPP/R4RK1\")[6, :, :]\n",
    "#print(position2tensor(\"f3\"))\n",
    "board = torch.flip(res, dims=[0])\n",
    "\n",
    "plt.imshow(board, cmap='viridis', interpolation='nearest')\n",
    "\n",
    "# Add colorbar for reference\n",
    "plt.colorbar()\n",
    "\n",
    "# Show the plot\n",
    "plt.show()\n",
    "\n",
    "print(board)\n"
   ]
  },
  {
   "cell_type": "code",
   "execution_count": null,
   "metadata": {},
   "outputs": [],
   "source": [
    "# chess_boards = []\n",
    "# chess_moves = []\n",
    "\n",
    "# for i in range(len(df)):\n",
    "#     board = df.iloc[i][\"board\"]\n",
    "#     move = df.iloc[i][\"move\"]\n",
    "#     chess_boards.append(board2tensor(board))\n",
    "#     chess_moves.append(position2tensor(move))\n",
    "#     if i % 100 == 0:\n",
    "#         print(f\"Converting: {i}\")\n",
    "\n",
    "# torch.save(chess_boards, \"datasets/chess_boards_m1.pt\")\n",
    "# torch.save(chess_moves, \"datasets/chess_moves_m1.pt\")\n"
   ]
  }
 ],
 "metadata": {
  "kernelspec": {
   "display_name": "Python 3",
   "language": "python",
   "name": "python3"
  },
  "language_info": {
   "codemirror_mode": {
    "name": "ipython",
    "version": 3
   },
   "file_extension": ".py",
   "mimetype": "text/x-python",
   "name": "python",
   "nbconvert_exporter": "python",
   "pygments_lexer": "ipython3",
   "version": "3.11.4"
  },
  "orig_nbformat": 4
 },
 "nbformat": 4,
 "nbformat_minor": 2
}
